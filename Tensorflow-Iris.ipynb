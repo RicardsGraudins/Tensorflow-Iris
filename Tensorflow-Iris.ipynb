{
 "cells": [
  {
   "cell_type": "markdown",
   "metadata": {},
   "source": [
    "# Tensorflow - Using the Iris Data Set\n",
    "This notebook contains solutions to the Tensorflow problem sheet completed as part of my course work for the module Emerging Technologies, for further documentation refer to the following link: https://github.com/RicardsGraudins/Tensorflow-Iris\n",
    "\n",
    "## *Exercises:*\n",
    "## 01. Use Tensorflow to create model\n",
    "*Use Tensorflow to create a model to predict the species of Iris from a flower’s sepal width, sepal length, petal width, and petal length.*"
   ]
  },
  {
   "cell_type": "code",
   "execution_count": null,
   "metadata": {
    "collapsed": true
   },
   "outputs": [],
   "source": [
    "import tensorflow as tf\n",
    "\n",
    "#Placeholders\n",
    "#Input has 4 features - Sepal width & length, Petal width & length\n",
    "#Output has to be 1 out of 3 - Setosa / Virginica / Versicolor\n",
    "x=tf.placeholder(tf.float32,shape=[None,4])\n",
    "y_=tf.placeholder(tf.float32,shape=[None, 3])\n",
    "\n",
    "#Variable weight & bias\n",
    "#Weight - 4 input features 3 output classes\n",
    "#Bias - 3 output classes\n",
    "W=tf.Variable(tf.zeros([4,3]))\n",
    "b=tf.Variable(tf.zeros([3]))\n",
    "\n",
    "#Model\n",
    "#Softmax function for multiclass classification\n",
    "y = tf.nn.softmax(tf.matmul(x, W) + b)\n",
    "\n",
    "#Loss function\n",
    "#cross_entropy = tf.reduce_mean(-tf.reduce_sum(y_ * tf.log(y), reduction_indices=[1]))\n",
    "cross_entropy = cross_entropy = tf.reduce_mean(tf.nn.softmax_cross_entropy_with_logits(labels=y_, logits=y))\n",
    "\n",
    "#Optimiser\n",
    "#train_step = tf.train.AdamOptimizer(0.01).minimize(cross_entropy)\n",
    "train_step = tf.train.GradientDescentOptimizer(0.01).minimize(cross_entropy)\n",
    "\n",
    "#Accuracy of the model\n",
    "correct_prediction = tf.equal(tf.argmax(y,1), tf.argmax(y_,1))\n",
    "accuracy = tf.reduce_mean(tf.cast(correct_prediction, tf.float32))"
   ]
  },
  {
   "cell_type": "markdown",
   "metadata": {},
   "source": [
    "# References\n",
    "https://github.com/emerging-technologies/keras-iris   \n",
    "https://www.tensorflow.org/get_started/mnist/beginners    \n",
    "https://www.tensorflow.org/get_started/mnist/pros"
   ]
  }
 ],
 "metadata": {
  "kernelspec": {
   "display_name": "Python 3",
   "language": "python",
   "name": "python3"
  },
  "language_info": {
   "codemirror_mode": {
    "name": "ipython",
    "version": 3
   },
   "file_extension": ".py",
   "mimetype": "text/x-python",
   "name": "python",
   "nbconvert_exporter": "python",
   "pygments_lexer": "ipython3",
   "version": "3.6.1"
  }
 },
 "nbformat": 4,
 "nbformat_minor": 2
}
